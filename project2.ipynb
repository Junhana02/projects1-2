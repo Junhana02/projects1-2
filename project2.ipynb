{
  "cells": [
    {
      "cell_type": "markdown",
      "metadata": {
        "id": "view-in-github",
        "colab_type": "text"
      },
      "source": [
        "<a href=\"https://colab.research.google.com/github/Junhana02/projects1-2/blob/main/project2.ipynb\" target=\"_parent\"><img src=\"https://colab.research.google.com/assets/colab-badge.svg\" alt=\"Open In Colab\"/></a>"
      ]
    },
    {
      "cell_type": "code",
      "execution_count": 9,
      "metadata": {
        "colab": {
          "base_uri": "https://localhost:8080/"
        },
        "id": "7xY0PSws21Ex",
        "outputId": "4511577f-7383-4efd-fb03-de6150401078"
      },
      "outputs": [
        {
          "output_type": "stream",
          "name": "stdout",
          "text": [
            "             Growth Rate  TFP Growth  Capital Deepening  TFP Share  \\\n",
            "countrycode                                                          \n",
            "AUS             1.014818    0.602532           0.412285   0.589957   \n",
            "AUT             0.505282    0.284674           0.220608   0.574270   \n",
            "BEL             0.797882    0.485693           0.312189   0.616512   \n",
            "CAN             0.571874    0.364970           0.206904   0.647311   \n",
            "DEU             0.650514    0.396321           0.254193   0.620784   \n",
            "DNK             0.757879    0.473087           0.284792   0.637747   \n",
            "FIN             0.586815    0.319052           0.267763   0.583996   \n",
            "FRA             0.727425    0.449098           0.278327   0.618177   \n",
            "GRC             0.455894    0.237265           0.218629   0.534476   \n",
            "ISL             1.719278    1.110471           0.608806   0.597641   \n",
            "\n",
            "             Capital Share  \n",
            "countrycode                 \n",
            "AUS               0.410043  \n",
            "AUT               0.425730  \n",
            "BEL               0.383488  \n",
            "CAN               0.352689  \n",
            "DEU               0.379216  \n",
            "DNK               0.362253  \n",
            "FIN               0.416004  \n",
            "FRA               0.381823  \n",
            "GRC               0.465524  \n",
            "ISL               0.402359  \n"
          ]
        }
      ],
      "source": [
        "import pandas as pd\n",
        "import numpy as np\n",
        "\n",
        "\n",
        "# Load data\n",
        "pwt1001 = pd.read_stata('https://dataverse.nl/api/access/datafile/354098')\n",
        "\n",
        "# Filter and select relevant columns\n",
        "data = pwt1001.loc[pwt1001['country'].isin([\"Australia\", \"Austria\", \"Belgium\", \"Canada\", \"Denmark\", \"Finland\", \"France\", \"Germany\", \"Greece\",\"Iceland\"] )][['year', 'countrycode', 'rgdpna', 'rkna', 'emp', 'labsh']]\n",
        "data = data.loc[(data['year'] >= 2000) & (data['year'] <= 2015)].dropna()\n",
        "\n",
        "# Calculate additional columns\n",
        "data['y_pc'] = np.log(data['rgdpna'] / data['emp'])  # GDP per worker\n",
        "data['k_pc'] = np.log(data['rkna'] / data['emp'])  # Capital per worker\n",
        "data['Capital Share'] = 1 - data['labsh']  # Capital share\n",
        "data['TFP Share'] = data['labsh'] # TFP share\n",
        "\n",
        "# Order by year\n",
        "data = data.sort_values('year')\n",
        "\n",
        "# Group by isocode\n",
        "grouped_data = data.groupby('countrycode')\n",
        "\n",
        "# Calculate growth rates and Solow residual\n",
        "data['Growth Rate'] = (grouped_data['y_pc'].diff() * 100)  # Growth rate of GDP per capita\n",
        "data['TFP Growth'] = data['Growth Rate']*data['labsh']  # TFP Growth\n",
        "data['Capital Deepening']=data['Growth Rate']*data['Capital Share']  # Capital Deepening\n",
        "\n",
        "# Remove missing values\n",
        "data = data.dropna()\n",
        "\n",
        "# Calculate summary statistics\n",
        "summary = data.groupby('countrycode').agg({'Growth Rate': 'mean', 'TFP Growth':'mean', 'Capital Deepening':'mean', \n",
        "                                      'TFP Share':'mean', 'Capital Share': \"mean\"})\n",
        "\n",
        "# Calculate additional summary statistics\n",
        "summary['Growth Rate'] = summary['Growth Rate']\n",
        "summary['TFP Growth'] = summary['TFP Growth']\n",
        "summary['Capital Deepening'] = summary['Capital Deepening']\n",
        "summary['TFP Share'] = summary['TFP Share']\n",
        "summary['Capital Share'] = summary['Capital Share']\n",
        "\n",
        "# Print output\n",
        "print(summary)"
      ]
    }
  ],
  "metadata": {
    "colab": {
      "provenance": [],
      "include_colab_link": true
    },
    "kernelspec": {
      "display_name": "Python 3",
      "name": "python3"
    },
    "language_info": {
      "name": "python"
    }
  },
  "nbformat": 4,
  "nbformat_minor": 0
}