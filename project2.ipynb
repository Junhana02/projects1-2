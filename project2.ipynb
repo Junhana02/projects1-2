{
  "cells": [
    {
      "cell_type": "markdown",
      "metadata": {
        "id": "view-in-github",
        "colab_type": "text"
      },
      "source": [
        "<a href=\"https://colab.research.google.com/github/Junhana02/projects1-2/blob/main/project2.ipynb\" target=\"_parent\"><img src=\"https://colab.research.google.com/assets/colab-badge.svg\" alt=\"Open In Colab\"/></a>"
      ]
    },
    {
      "cell_type": "code",
      "execution_count": 6,
      "metadata": {
        "colab": {
          "base_uri": "https://localhost:8080/"
        },
        "id": "7xY0PSws21Ex",
        "outputId": "4db781a3-79dc-4e96-f21d-3db794d5d5de"
      },
      "outputs": [
        {
          "output_type": "stream",
          "name": "stdout",
          "text": [
            "             Growth Rate  TFP Growth  Capital Deepening  TFP Share  \\\n",
            "countrycode                                                          \n",
            "AUS             1.014818         NaN                NaN        NaN   \n",
            "AUT             0.505282         NaN                NaN        NaN   \n",
            "BEL             0.797882         NaN                NaN        NaN   \n",
            "CAN             0.571874         NaN                NaN        NaN   \n",
            "DEU             0.650514         NaN                NaN        NaN   \n",
            "DNK             0.757879         NaN                NaN        NaN   \n",
            "FIN             0.586815         NaN                NaN        NaN   \n",
            "FRA             0.727425         NaN                NaN        NaN   \n",
            "GRC             0.455894         NaN                NaN        NaN   \n",
            "ISL             1.719278         NaN                NaN        NaN   \n",
            "\n",
            "             Capital Share  \n",
            "countrycode                 \n",
            "AUS                    NaN  \n",
            "AUT                    NaN  \n",
            "BEL                    NaN  \n",
            "CAN                    NaN  \n",
            "DEU                    NaN  \n",
            "DNK                    NaN  \n",
            "FIN                    NaN  \n",
            "FRA                    NaN  \n",
            "GRC                    NaN  \n",
            "ISL                    NaN  \n"
          ]
        }
      ],
      "source": [
        "import pandas as pd\n",
        "import numpy as np\n",
        "\n",
        "\n",
        "# Load data\n",
        "pwt1001 = pd.read_stata('https://dataverse.nl/api/access/datafile/354098')\n",
        "\n",
        "# Filter and select relevant columns\n",
        "data = pwt1001.loc[pwt1001['country'].isin([\"Australia\", \"Austria\", \"Belgium\", \"Canada\", \"Denmark\", \"Finland\", \"France\", \"Germany\", \"Greece\",\"Iceland\"] )][['year', 'countrycode', 'rgdpna', 'rkna', 'emp', 'labsh']]\n",
        "data = data.loc[(data['year'] >= 2000) & (data['year'] <= 2015)].dropna()\n",
        "\n",
        "# Calculate additional columns\n",
        "data['y_pc'] = np.log(data['rgdpna'] / data['emp'])  # GDP per worker\n",
        "data['k_pc'] = np.log(data['rkna'] / data['emp'])  # Capital per worker\n",
        "data['Capital Share'] = 1 - data['labsh']  # Capital share\n",
        "data['TFP Share'] = data['labsh'] # TFP share\n",
        "\n",
        "# Order by year\n",
        "data = data.sort_values('year')\n",
        "\n",
        "# Group by isocode\n",
        "grouped_data = data.groupby('countrycode')\n",
        "\n",
        "# Calculate growth rates and Solow residual\n",
        "data['Growth Rate'] = (grouped_data['y_pc'].diff() * 100)  # Growth rate of GDP per capita\n",
        "data['TFP Growth'] = data['Growth Rate']*data['labsh']  # TFP Growth\n",
        "data['Capital Deepening']=data['Growth Rate']*data['Capital Share']  # Capital Deepening\n",
        "\n",
        "# Remove missing values\n",
        "data = data.dropna()\n",
        "\n",
        "# Calculate summary statistics\n",
        "summary = data.groupby('countrycode').agg({'Growth Rate': 'mean', 'TFP Growth':'mean', 'Capital Deepening':'mean', \n",
        "                                      'TFP Share':'mean', 'Capital Share': \"mean\"})\n",
        "\n",
        "# Calculate additional summary statistics\n",
        "summary['Growth Rate'] = summary['Growth Rate']\n",
        "summary['TFP Growth'] = data['TFP Growth']\n",
        "summary['Capital Deepening'] = data['Capital Deepening']\n",
        "summary['TFP Share'] = data['labsh']\n",
        "summary['Capital Share'] = data['Capital Share']\n",
        "\n",
        "# Print output\n",
        "print(summary)"
      ]
    }
  ],
  "metadata": {
    "colab": {
      "provenance": [],
      "include_colab_link": true
    },
    "kernelspec": {
      "display_name": "Python 3",
      "name": "python3"
    },
    "language_info": {
      "name": "python"
    }
  },
  "nbformat": 4,
  "nbformat_minor": 0
}