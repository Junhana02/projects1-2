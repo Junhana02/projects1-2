{
  "cells": [
    {
      "cell_type": "markdown",
      "metadata": {
        "id": "view-in-github",
        "colab_type": "text"
      },
      "source": [
        "<a href=\"https://colab.research.google.com/github/Junhana02/projects1-2/blob/main/project2.ipynb\" target=\"_parent\"><img src=\"https://colab.research.google.com/assets/colab-badge.svg\" alt=\"Open In Colab\"/></a>"
      ]
    },
    {
      "cell_type": "code",
      "execution_count": 1,
      "metadata": {
        "colab": {
          "base_uri": "https://localhost:8080/"
        },
        "id": "7xY0PSws21Ex",
        "outputId": "18184a1b-636d-4d99-eba9-39a139c8b1b5"
      },
      "outputs": [
        {
          "output_type": "stream",
          "name": "stdout",
          "text": [
            "             Growth Rate  TFP Growth  Capital Deepening  TFP Share  \\\n",
            "countrycode                                                          \n",
            "CAN             0.887700    0.580760           0.306940   0.653810   \n",
            "DEU             0.661055    0.411357           0.249698   0.629270   \n",
            "FRA             0.829236    0.512309           0.316927   0.618806   \n",
            "GBR             1.015544    0.588315           0.427229   0.587007   \n",
            "ITA            -0.037181   -0.019589          -0.017592   0.515165   \n",
            "JPN             0.710956    0.405471           0.305485   0.569399   \n",
            "USA             1.536985    0.939222           0.597763   0.606740   \n",
            "\n",
            "             Capital Share  \n",
            "countrycode                 \n",
            "CAN               0.346190  \n",
            "DEU               0.370730  \n",
            "FRA               0.381194  \n",
            "GBR               0.412993  \n",
            "ITA               0.484835  \n",
            "JPN               0.430601  \n",
            "USA               0.393260  \n"
          ]
        }
      ],
      "source": [
        "import pandas as pd\n",
        "import numpy as np\n",
        "\n",
        "\n",
        "# Load data\n",
        "pwt1001 = pd.read_stata('https://dataverse.nl/api/access/datafile/354098')\n",
        "\n",
        "# Filter and select relevant columns\n",
        "data = pwt1001.loc[pwt1001['country'].isin([\"France\", \"Germany\", \"Canada\",\"Italy\",\"Japan\",\"United Kingdom\",\"United States\"] )][['year', 'countrycode', 'rgdpna', 'rkna', 'emp', 'labsh']]\n",
        "data = data.loc[(data['year'] >= 1995) & (data['year'] <= 2019)].dropna()\n",
        "\n",
        "# Calculate additional columns\n",
        "data['y_pc'] = np.log(data['rgdpna'] / data['emp'])  # GDP per worker\n",
        "data['k_pc'] = np.log(data['rkna'] / data['emp'])  # Capital per worker\n",
        "data['Capital Share'] = 1 - data['labsh']  # Capital share\n",
        "data['TFP Share'] = data['labsh'] # TFP share\n",
        "\n",
        "# Order by year\n",
        "data = data.sort_values('year')\n",
        "\n",
        "# Group by isocode\n",
        "grouped_data = data.groupby('countrycode')\n",
        "\n",
        "# Calculate growth rates , TFP Growth , and Capital Deepening\n",
        "data['Growth Rate'] = (grouped_data['y_pc'].diff() * 100)  # Growth rate of GDP per capita\n",
        "data['TFP Growth'] = data['Growth Rate']*data['labsh']  # TFP Growth\n",
        "data['Capital Deepening']=data['Growth Rate']*data['Capital Share']  # Capital Deepening\n",
        "\n",
        "# Remove missing values\n",
        "data = data.dropna()\n",
        "\n",
        "# Calculate summary statistics\n",
        "summary = data.groupby('countrycode').agg({'Growth Rate': 'mean', 'TFP Growth':'mean', 'Capital Deepening':'mean', \n",
        "                                      'TFP Share':'mean', 'Capital Share': \"mean\"})\n",
        "\n",
        "# Calculate summary\n",
        "\n",
        "# Calculate additional summary statistics\n",
        "summary['Growth Rate'] = summary['Growth Rate']\n",
        "summary['TFP Growth'] = summary['TFP Growth']\n",
        "summary['Capital Deepening'] = summary['Capital Deepening']\n",
        "summary['TFP Share'] = summary['TFP Share']\n",
        "summary['Capital Share'] = summary['Capital Share']\n",
        "\n",
        "\n",
        "\n",
        "# Print output\n",
        "print(summary)"
      ]
    }
  ],
  "metadata": {
    "colab": {
      "provenance": [],
      "include_colab_link": true
    },
    "kernelspec": {
      "display_name": "Python 3",
      "name": "python3"
    },
    "language_info": {
      "name": "python"
    }
  },
  "nbformat": 4,
  "nbformat_minor": 0
}