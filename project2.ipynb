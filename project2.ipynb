{
  "cells": [
    {
      "cell_type": "markdown",
      "metadata": {
        "id": "view-in-github",
        "colab_type": "text"
      },
      "source": [
        "<a href=\"https://colab.research.google.com/github/Junhana02/projects1-2/blob/main/project2.ipynb\" target=\"_parent\"><img src=\"https://colab.research.google.com/assets/colab-badge.svg\" alt=\"Open In Colab\"/></a>"
      ]
    },
    {
      "cell_type": "code",
      "execution_count": 10,
      "metadata": {
        "colab": {
          "base_uri": "https://localhost:8080/"
        },
        "id": "7xY0PSws21Ex",
        "outputId": "7012f1b6-47a8-413d-8604-430f1b9b0e32"
      },
      "outputs": [
        {
          "output_type": "stream",
          "name": "stdout",
          "text": [
            "             Growth Rate  TFP Growth  Capital Deepening  TFP Share  \\\n",
            "countrycode                                                          \n",
            "AUS             1.014818    0.602532           0.412285   0.589957   \n",
            "AUT             0.505282    0.284674           0.220608   0.574270   \n",
            "BEL             0.797882    0.485693           0.312189   0.616512   \n",
            "CAN             0.571874    0.364970           0.206904   0.647311   \n",
            "DEU             0.650514    0.396321           0.254193   0.620784   \n",
            "DNK             0.757879    0.473087           0.284792   0.637747   \n",
            "ESP             0.719376    0.418079           0.301297   0.600402   \n",
            "FIN             0.586815    0.319052           0.267763   0.583996   \n",
            "FRA             0.727425    0.449098           0.278327   0.618177   \n",
            "GBR             0.788320    0.468475           0.319845   0.595033   \n",
            "GRC             0.455894    0.237265           0.218629   0.534476   \n",
            "IRL             2.959576    1.193776           1.765799   0.467688   \n",
            "ISL             1.719278    1.110471           0.608806   0.597641   \n",
            "ITA            -0.449823   -0.232965          -0.216857   0.513610   \n",
            "JPN             0.646038    0.359283           0.286755   0.563606   \n",
            "NLD             0.676193    0.403848           0.272345   0.603610   \n",
            "NOR             0.583223    0.303150           0.280073   0.497788   \n",
            "NZL             1.047662    0.573908           0.473754   0.550068   \n",
            "PRT             0.848179    0.531774           0.316405   0.622645   \n",
            "SWE             1.457488    0.770878           0.686610   0.538330   \n",
            "USA             1.352698    0.821612           0.531086   0.605174   \n",
            "\n",
            "             Capital Share  \n",
            "countrycode                 \n",
            "AUS               0.410043  \n",
            "AUT               0.425730  \n",
            "BEL               0.383488  \n",
            "CAN               0.352689  \n",
            "DEU               0.379216  \n",
            "DNK               0.362253  \n",
            "ESP               0.399599  \n",
            "FIN               0.416004  \n",
            "FRA               0.381823  \n",
            "GBR               0.404967  \n",
            "GRC               0.465524  \n",
            "IRL               0.532312  \n",
            "ISL               0.402359  \n",
            "ITA               0.486390  \n",
            "JPN               0.436394  \n",
            "NLD               0.396390  \n",
            "NOR               0.502212  \n",
            "NZL               0.449932  \n",
            "PRT               0.377355  \n",
            "SWE               0.461670  \n",
            "USA               0.394826  \n"
          ]
        }
      ],
      "source": [
        "import pandas as pd\n",
        "import numpy as np\n",
        "\n",
        "\n",
        "# Load data\n",
        "pwt1001 = pd.read_stata('https://dataverse.nl/api/access/datafile/354098')\n",
        "\n",
        "# Filter and select relevant columns\n",
        "data = pwt1001.loc[pwt1001['country'].isin([\"Australia\", \"Austria\", \"Belgium\", \"Canada\", \"Denmark\", \"Finland\", \"France\", \"Germany\", \"Greece\",\"Iceland\",\"Ireland\",\"Italy\",\"Japan\",\"Netherlands\",\"New Zealand\",\"Norway\",\"Portugal\",\"Spain\",\"Sweden\",\"Swizerland\",\"United Kingdom\",\"United States\"] )][['year', 'countrycode', 'rgdpna', 'rkna', 'emp', 'labsh']]\n",
        "data = data.loc[(data['year'] >= 2000) & (data['year'] <= 2015)].dropna()\n",
        "\n",
        "# Calculate additional columns\n",
        "data['y_pc'] = np.log(data['rgdpna'] / data['emp'])  # GDP per worker\n",
        "data['k_pc'] = np.log(data['rkna'] / data['emp'])  # Capital per worker\n",
        "data['Capital Share'] = 1 - data['labsh']  # Capital share\n",
        "data['TFP Share'] = data['labsh'] # TFP share\n",
        "\n",
        "# Order by year\n",
        "data = data.sort_values('year')\n",
        "\n",
        "# Group by isocode\n",
        "grouped_data = data.groupby('countrycode')\n",
        "\n",
        "# Calculate growth rates and Solow residual\n",
        "data['Growth Rate'] = (grouped_data['y_pc'].diff() * 100)  # Growth rate of GDP per capita\n",
        "data['TFP Growth'] = data['Growth Rate']*data['labsh']  # TFP Growth\n",
        "data['Capital Deepening']=data['Growth Rate']*data['Capital Share']  # Capital Deepening\n",
        "\n",
        "# Remove missing values\n",
        "data = data.dropna()\n",
        "\n",
        "# Calculate summary statistics\n",
        "summary = data.groupby('countrycode').agg({'Growth Rate': 'mean', 'TFP Growth':'mean', 'Capital Deepening':'mean', \n",
        "                                      'TFP Share':'mean', 'Capital Share': \"mean\"})\n",
        "\n",
        "# Calculate additional summary statistics\n",
        "summary['Growth Rate'] = summary['Growth Rate']\n",
        "summary['TFP Growth'] = summary['TFP Growth']\n",
        "summary['Capital Deepening'] = summary['Capital Deepening']\n",
        "summary['TFP Share'] = summary['TFP Share']\n",
        "summary['Capital Share'] = summary['Capital Share']\n",
        "\n",
        "\n",
        "\n",
        "# Print output\n",
        "print(summary)"
      ]
    }
  ],
  "metadata": {
    "colab": {
      "provenance": [],
      "include_colab_link": true
    },
    "kernelspec": {
      "display_name": "Python 3",
      "name": "python3"
    },
    "language_info": {
      "name": "python"
    }
  },
  "nbformat": 4,
  "nbformat_minor": 0
}